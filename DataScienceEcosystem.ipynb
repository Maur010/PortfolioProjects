{
 "cells": [
  {
   "cell_type": "markdown",
   "metadata": {},
   "source": [
    "# Data Science Tools and Ecosystem"
   ]
  },
  {
   "cell_type": "markdown",
   "metadata": {},
   "source": [
    "In this notebook, Data Science Tools and Ecosystem are summarized."
   ]
  },
  {
   "cell_type": "markdown",
   "metadata": {},
   "source": [
    "# Programming Languages for Data Science\n",
    "\n",
    "Data science involves various programming languages to manipulate, analyze, and visualize data. Here are some commonly used languages in the field:\n",
    "\n",
    "## 1. Python\n",
    "\n",
    "- **Description:** Python is the most widely used language in data science due to its simplicity, readability, and a vast ecosystem of libraries.\n",
    "- **Key Libraries:**\n",
    "  - NumPy: Numerical computing\n",
    "  - pandas: Data manipulation and analysis\n",
    "  - Matplotlib and Seaborn: Data visualization\n",
    "  - scikit-learn: Machine learning\n",
    "  - TensorFlow and PyTorch: Deep learning\n",
    "\n",
    "## 2. R\n",
    "\n",
    "- **Description:** R is specifically designed for statistical computing and data analysis. It has a strong community and rich statistical packages.\n",
    "- **Key Packages:**\n",
    "  - dplyr: Data manipulation\n",
    "  - ggplot2: Data visualization\n",
    "  - caret: Machine learning\n",
    "  - tidyr: Data tidying\n",
    "\n",
    "## 3. SQL\n",
    "\n",
    "- **Description:** SQL (Structured Query Language) is essential for working with relational databases, commonly used for data storage and retrieval.\n",
    "- **Key Concepts:**\n",
    "  - SELECT, FROM, WHERE: Querying data\n",
    "  - JOIN: Combining tables\n",
    "  - GROUP BY, HAVING: Aggregating data\n",
    "  - ORDER BY: Sorting results"
   ]
  },
  {
   "cell_type": "markdown",
   "metadata": {},
   "source": [
    "# Data Science Tools\n",
    "\n",
    "| Tool                   |\n",
    "|------------------------|\n",
    "| **Python Libraries**   |\n",
    "| **R Packages**         |\n",
    "| **SQL Tools**          |\n",
    "| MySQL                  |\n",
    "| PostgreSQL             |\n",
    "| SQLite                 |\n",
    "| **Other Languages**    |\n",
    "| Julia                  |\n",
    "| Scala                  |\n",
    "| **Big Data Frameworks** |\n",
    "| Apache Spark           |\n",
    "| Apache Flink           |\n",
    "| **Visualization Tools** |\n",
    "| Tableau                |\n",
    "| Power BI               |\n",
    "| Plotly                 |\n",
    "| **Notebook Environments** |\n",
    "| Jupyter Notebook       |\n",
    "| RStudio                |\n",
    "| **Version Control**    |\n",
    "| Git                    |\n",
    "| GitHub                 |\n",
    "| **Containerization**   |\n",
    "| Docker                 |\n",
    "| Kubernetes             |"
   ]
  },
  {
   "cell_type": "markdown",
   "metadata": {},
   "source": [
    "### Below are a few examples of evaluationg arithmetic expressions in Python.\n",
    "\n",
    "#### Addition\n",
    "- result_addition = 5 + 3  # Output: \n",
    "\n",
    "#### Substraction\n",
    "- result_subtraction = 10 - 4  # Output: 6\n",
    "\n",
    "#### Multiplication\n",
    "- result_multiplication = 6 * 7  # Output: 42\n",
    "\n",
    "#### Division\n",
    "- result_division = 15 / 3  # Output: 5.0\n",
    "\n",
    "#### Using Variables and Parentheses\n",
    "- a, b = 10, 3\n",
    "- result_complex = (a + b * 2)"
   ]
  },
  {
   "cell_type": "code",
   "execution_count": 2,
   "metadata": {},
   "outputs": [
    {
     "name": "stdout",
     "output_type": "stream",
     "text": [
      "The result of the multiplication is: 6, the result of the addition is: 5\n",
      "This is the result of the combination of both 11\n"
     ]
    }
   ],
   "source": [
    "#This is a simple arithmetic expression to multiply then add integers\n",
    "number_1, number_2 = 3,2\n",
    "\n",
    "addition = number_1 + number_2\n",
    "multiplication = number_1 * number_2\n",
    "\n",
    "print(f'The result of the multiplication is: {multiplication}, the result of the addition is: {addition}')\n",
    "print(f'This is the result of the combination of both {multiplication + addition}')"
   ]
  },
  {
   "cell_type": "code",
   "execution_count": 9,
   "metadata": {},
   "outputs": [
    {
     "name": "stdout",
     "output_type": "stream",
     "text": [
      "Minutes: 200\n",
      "Hours: 3.33\n"
     ]
    }
   ],
   "source": [
    "# This will convert 200 minutes to hours by diving by 60.\n",
    "minutes = 200\n",
    "hours = minutes / 60\n",
    "print(f'Minutes: {minutes}\\nHours: {hours:.2f}')"
   ]
  },
  {
   "cell_type": "markdown",
   "metadata": {},
   "source": [
    "**Objectives:**\n",
    "\n",
    "* Create a markdown cell with the title of the notebook.\n",
    "* Create a markdown cell for an introduction.\n",
    "* Create a markdown cell with a table of Data Science tools.\n",
    "* Create a code cell to multiply and add numbers.\n",
    "* Create a code cell to convert minutes to hours.\n",
    "\n"
   ]
  },
  {
   "cell_type": "markdown",
   "metadata": {},
   "source": [
    "## Author\n",
    "Mauro Ramirez.\n"
   ]
  },
  {
   "cell_type": "code",
   "execution_count": null,
   "metadata": {},
   "outputs": [],
   "source": []
  }
 ],
 "metadata": {
  "kernelspec": {
   "display_name": "base",
   "language": "python",
   "name": "python3"
  },
  "language_info": {
   "codemirror_mode": {
    "name": "ipython",
    "version": 3
   },
   "file_extension": ".py",
   "mimetype": "text/x-python",
   "name": "python",
   "nbconvert_exporter": "python",
   "pygments_lexer": "ipython3",
   "version": "3.9.13"
  }
 },
 "nbformat": 4,
 "nbformat_minor": 2
}
