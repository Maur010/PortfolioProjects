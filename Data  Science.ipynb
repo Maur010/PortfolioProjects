{
    "cells": [
        {
            "cell_type": "code",
            "execution_count": 2,
            "metadata": {},
            "outputs": [],
            "source": "def solution(A):\n    unique_positive_numbers = set(x for x in A if x > 0)\n    \n    smallest_positive = 1\n    while smallest_positive in unique_positive_numbers:\n        smallest_positive += 1\n    \n    return smallest_positive\n"
        },
        {
            "cell_type": "code",
            "execution_count": 6,
            "metadata": {},
            "outputs": [
                {
                    "name": "stdout",
                    "output_type": "stream",
                    "text": "5\n4\n1\n"
                }
            ],
            "source": "# Example usage:\nA1 = [1, 3, 6, 4, 1, 2]\nprint(solution(A1))  # Expected output: 5\n\nA2 = [1, 2, 3]\nprint(solution(A2))  # Expected output: 4\n\nA3 = [-1,-3]\nprint(solution(A3))  # Expected output: 4"
        },
        {
            "cell_type": "code",
            "execution_count": null,
            "metadata": {},
            "outputs": [],
            "source": ""
        }
    ],
    "metadata": {
        "kernelspec": {
            "display_name": "Python 3.10",
            "language": "python",
            "name": "python3"
        },
        "language_info": {
            "codemirror_mode": {
                "name": "ipython",
                "version": 3
            },
            "file_extension": ".py",
            "mimetype": "text/x-python",
            "name": "python",
            "nbconvert_exporter": "python",
            "pygments_lexer": "ipython3",
            "version": "3.10.13"
        }
    },
    "nbformat": 4,
    "nbformat_minor": 1
}